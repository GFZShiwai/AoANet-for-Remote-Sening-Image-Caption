{
 "metadata": {
  "language_info": {
   "codemirror_mode": {
    "name": "ipython",
    "version": 3
   },
   "file_extension": ".py",
   "mimetype": "text/x-python",
   "name": "python",
   "nbconvert_exporter": "python",
   "pygments_lexer": "ipython3",
   "version": "3.6.9-final"
  },
  "orig_nbformat": 2,
  "kernelspec": {
   "name": "python3",
   "display_name": "Python 3.6.9 64-bit ('aoa': conda)",
   "metadata": {
    "interpreter": {
     "hash": "f35a680a31ec6cf651ca21a41fd78e0c4a53b2147f70c669793f8050b4a8b9dd"
    }
   }
  }
 },
 "nbformat": 4,
 "nbformat_minor": 2,
 "cells": [
  {
   "cell_type": "code",
   "execution_count": 1,
   "metadata": {},
   "outputs": [],
   "source": [
    "import json\n",
    "\n",
    "# coco2014val文件\n",
    "cocoJsonFile = './coco-caption/annotations/captions_val2014.json'\n",
    "rsicdJsonFile = './data/dataset_rsicd.json' \n"
   ]
  },
  {
   "cell_type": "code",
   "execution_count": 2,
   "metadata": {},
   "outputs": [],
   "source": [
    "coco_dict = json.load(open(cocoJsonFile, 'rb'))\n",
    "rsicd_dict_old = json.load(open(rsicdJsonFile,'rb'))\n",
    "rsicd_dict = {}"
   ]
  },
  {
   "cell_type": "code",
   "execution_count": 3,
   "metadata": {},
   "outputs": [
    {
     "output_type": "stream",
     "name": "stdout",
     "text": [
      "info\ntype of the key's val:  <class 'dict'>\nlen of the key's val  6 \n\nimages\ntype of the key's val:  <class 'list'>\nlen of the key's val  40504 \n\nlicenses\ntype of the key's val:  <class 'list'>\nlen of the key's val  8 \n\ntype\ntype of the key's val:  <class 'str'>\nlen of the key's val  8 \n\nannotations\ntype of the key's val:  <class 'list'>\nlen of the key's val  202654 \n\n"
     ]
    }
   ],
   "source": [
    "for key, val in coco_dict.items():\n",
    "    print(key)\n",
    "    print(\"type of the key's val: \", type(val))\n",
    "    print(\"len of the key's val \",len(val), '\\n')"
   ]
  },
  {
   "cell_type": "code",
   "execution_count": 4,
   "metadata": {},
   "outputs": [
    {
     "output_type": "stream",
     "name": "stdout",
     "text": [
      "images\ntype of the key's val:  <class 'list'>\nlen of the key's val  10921 \n\ndataset\ntype of the key's val:  <class 'str'>\nlen of the key's val  5 \n\n"
     ]
    }
   ],
   "source": [
    "for key, val in rsicd_dict_old.items():\n",
    "    print(key)\n",
    "    print(\"type of the key's val: \", type(val))\n",
    "    print(\"len of the key's val \",len(val), '\\n')"
   ]
  },
  {
   "cell_type": "code",
   "execution_count": 6,
   "metadata": {},
   "outputs": [
    {
     "output_type": "execute_result",
     "data": {
      "text/plain": [
       "'RSICD'"
      ]
     },
     "metadata": {},
     "execution_count": 6
    }
   ],
   "source": [
    "rsicd_dict_old['dataset']"
   ]
  },
  {
   "cell_type": "code",
   "execution_count": 5,
   "metadata": {},
   "outputs": [
    {
     "output_type": "execute_result",
     "data": {
      "text/plain": [
       "{'description': 'This is stable 1.0 version of the RSICD dataset.',\n",
       " 'url': 'http://GFZShiwai.org',\n",
       " 'version': '1.0',\n",
       " 'year': '2021',\n",
       " 'contributor': 'XuLiangyu',\n",
       " 'date_created': '2021-04-03 13:52:01'}"
      ]
     },
     "metadata": {},
     "execution_count": 5
    }
   ],
   "source": [
    "# 处理 key 'info'\n",
    "info = coco_dict['info']\n",
    "# print(info)\n",
    "info['description'] = 'This is stable 1.0 version of the RSICD dataset.'\n",
    "info['url'] = 'http://GFZShiwai.org'\n",
    "info['year'] = '2021'\n",
    "info['contributor']  = 'XuLiangyu'\n",
    "info['date_created'] = '2021-04-03 13:52:01'\n",
    "\n",
    "# 生成RSICD dataset info 信息\n",
    "rsicd_dict['info'] = info\n",
    "rsicd_dict['info']"
   ]
  },
  {
   "cell_type": "code",
   "execution_count": 7,
   "metadata": {},
   "outputs": [
    {
     "output_type": "stream",
     "name": "stdout",
     "text": [
      "The key 'images' done! 1094\n"
     ]
    }
   ],
   "source": [
    "# 处理 key 'images'\n",
    "images_rsicd = []\n",
    "# dict_keys(['filename', 'imgid', 'sentences', 'split', 'sentids'])   = images_rsicd_raw[0]\n",
    "images_rsicd_raw = rsicd_dict_old['images']\n",
    "images_coco = coco_dict['images']\n",
    "# print(images_coco[0])\n",
    "# {'license': 3, 'url': 'http://farm9.staticflickr.com/8186/8119368305_4e622c8349_z.jpg', 'file_name': 'COCO_val2014_000000391895.jpg', 'id': 391895, 'width': 640, 'date_captured': '2013-11-14 11:18:45', 'height': 360}\n",
    "count = 0\n",
    "for img in images_rsicd_raw:\n",
    "    if img['split'] == 'val':\n",
    "        count += 1\n",
    "        img_dict = {}\n",
    "        img_dict['license'] = 6\n",
    "        img_dict['url'] = 'http://GFZShiwai.org'\n",
    "        img_dict['file_name'] = img['filename']\n",
    "        img_dict['id'] = img['imgid']\n",
    "        img_dict['width'] = 124\n",
    "        img_dict['date_captured'] = '2021-04-03 14:20:38'\n",
    "        img_dict['height'] = 124\n",
    "        images_rsicd.append(img_dict)\n",
    "rsicd_dict['images'] = images_rsicd\n",
    "print(\"The key 'images' done!\", count)\n",
    "\n",
    "\n",
    "\n"
   ]
  },
  {
   "cell_type": "code",
   "execution_count": 8,
   "metadata": {},
   "outputs": [
    {
     "output_type": "stream",
     "name": "stdout",
     "text": [
      "[{'url': 'http://creativecommons.org/licenses/by-nc-sa/2.0/', 'id': 1, 'name': 'Attribution-NonCommercial-ShareAlike License'}, {'url': 'http://creativecommons.org/licenses/by-nc/2.0/', 'id': 2, 'name': 'Attribution-NonCommercial License'}, {'url': 'http://creativecommons.org/licenses/by-nc-nd/2.0/', 'id': 3, 'name': 'Attribution-NonCommercial-NoDerivs License'}, {'url': 'http://creativecommons.org/licenses/by/2.0/', 'id': 4, 'name': 'Attribution License'}, {'url': 'http://creativecommons.org/licenses/by-sa/2.0/', 'id': 5, 'name': 'Attribution-ShareAlike License'}, {'url': 'http://creativecommons.org/licenses/by-nd/2.0/', 'id': 6, 'name': 'Attribution-NoDerivs License'}, {'url': 'http://flickr.com/commons/usage/', 'id': 7, 'name': 'No known copyright restrictions'}, {'url': 'http://www.usa.gov/copyright.shtml', 'id': 8, 'name': 'United States Government Work'}]\n"
     ]
    }
   ],
   "source": [
    "# 处理 key 'licenses'\n",
    "# print(coco_dict['licenses'])\n",
    "rsicd_dict['licenses'] = coco_dict['licenses']\n",
    "print(rsicd_dict['licenses'])"
   ]
  },
  {
   "cell_type": "code",
   "execution_count": 9,
   "metadata": {},
   "outputs": [
    {
     "output_type": "stream",
     "name": "stdout",
     "text": [
      "captions\ncaptions\n"
     ]
    }
   ],
   "source": [
    "# 处理 key 'type'\n",
    "print(coco_dict['type'])\n",
    "rsicd_dict['type'] = 'captions'\n",
    "print(rsicd_dict['type'])"
   ]
  },
  {
   "cell_type": "code",
   "execution_count": 10,
   "metadata": {
    "tags": []
   },
   "outputs": [
    {
     "output_type": "stream",
     "name": "stdout",
     "text": [
      "{'image_id': 203564, 'id': 37, 'caption': 'A bicycle replica with a clock as the front wheel.'}\nThe key annotations done! 5470\n"
     ]
    }
   ],
   "source": [
    "# 处理 key 'annotations'\n",
    "rsicd_anno = []\n",
    "print(coco_dict['annotations'][0])\n",
    "count = 0\n",
    "for img in images_rsicd_raw:\n",
    "    if img['split'] == 'val':\n",
    "        #print(img)\n",
    "        for sentence in img['sentences']:\n",
    "            count += 1\n",
    "            #print('ok')\n",
    "            anno_dict = {}\n",
    "            anno_dict['image_id'] = sentence['imgid']\n",
    "            anno_dict['id'] = sentence['sentid']\n",
    "            anno_dict['caption'] = sentence['raw']\n",
    "            rsicd_anno.append(anno_dict)\n",
    "rsicd_dict['annotations'] = rsicd_anno\n",
    "print(\"The key annotations done!\", count)\n",
    "\n"
   ]
  },
  {
   "cell_type": "code",
   "execution_count": 12,
   "metadata": {},
   "outputs": [
    {
     "output_type": "stream",
     "name": "stdout",
     "text": [
      "5470\n"
     ]
    }
   ],
   "source": [
    "print(len(rsicd_dict['annotations']))"
   ]
  },
  {
   "cell_type": "code",
   "execution_count": 13,
   "metadata": {},
   "outputs": [],
   "source": [
    "newJsonFile = './coco-caption/annotations/captions_val.json'\n",
    "json.dump(rsicd_dict, open(newJsonFile, 'w'))"
   ]
  }
 ]
}